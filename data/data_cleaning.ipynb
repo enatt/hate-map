{
 "cells": [
  {
   "cell_type": "markdown",
   "metadata": {},
   "source": [
    "To render the data necessary for index.html, run the cells below in order."
   ]
  },
  {
   "cell_type": "code",
   "execution_count": 9,
   "metadata": {},
   "outputs": [],
   "source": [
    "# Imports\n",
    "import pandas as pd\n",
    "from vega_datasets import data\n",
    "import altair as alt\n",
    "hatecrimes = pd.read_csv(\"hate_crime.csv\")\n",
    "population = pd.read_csv(\"population.csv\")\n",
    "population.dropna(inplace=True)\n",
    "# Need to rename population columns for easier merging\n",
    "population.rename(columns={\"Label (Grouping)\": \"state\", \"Total\": \"population\"}, \n",
    "                  inplace=True)"
   ]
  },
  {
   "cell_type": "code",
   "execution_count": null,
   "metadata": {},
   "outputs": [],
   "source": [
    "def filter_dataset(bias_type):\n",
    "    \"\"\"\n",
    "    Function used to filter the data, calculate percapita, and export\n",
    "\n",
    "    Args:\n",
    "        .csv file: raw hatecrimes data in .csv form\n",
    "        bias_type (str): type of bias we're interested in\n",
    "    \"\"\"\n",
    "    # If bias type set, filter\n",
    "    if bias_type != \"All\":\n",
    "        return_dataset = hatecrimes[hatecrimes['bias_desc'].str.contains(bias_type)]\n",
    "    else:\n",
    "        return_dataset = hatecrimes\n",
    "\n",
    "    # Counting hatecrimes by state IDs\n",
    "    state_ids = data.population_engineers_hurricanes(usecols=['state', 'id'])\n",
    "    hatecrimes_w_ids = return_dataset.merge(state_ids, left_on='state_name', right_on='state')\n",
    "    state_counts = hatecrimes_w_ids.groupby(['id'], as_index=False).size()\n",
    "    # Note: right join to account for those with 0 hate crimes\n",
    "    state_counts = state_counts.merge(state_ids, how='right')\n",
    "    state_counts.fillna(0, inplace=True)\n",
    "    \n",
    "    # Re-adding state name and population, adding percapita column\n",
    "    state_counts_w_pop = state_counts.merge(population, on=\"state\")\n",
    "    state_counts_w_pop[\"percap\"] = (state_counts_w_pop[\"size\"]/state_counts_w_pop[\"population\"])*100000\n",
    "    state_counts_w_pop[\"percap\"] = state_counts_w_pop[\"percap\"].round(2)\n",
    "\n",
    "    # FIPS ID need leading zeros\n",
    "    state_counts_w_pop[\"id\"]= state_counts_w_pop[\"id\"].astype(str).str.pad(width=2, side='left', fillchar='0')\n",
    "\n",
    "    state_counts_w_pop.to_csv(bias_type + \".csv\")"
   ]
  },
  {
   "cell_type": "code",
   "execution_count": 11,
   "metadata": {},
   "outputs": [],
   "source": [
    "other_biases = [\"All\",\"Anti-White\", \"Anti-Black\", \"Anti-Hispanic\", \"Anti-Jewish\", \"Anti-Asian\", \"Anti-Female\"]\n",
    "for b in other_biases:\n",
    "    filter_dataset(b)"
   ]
  },
  {
   "cell_type": "code",
   "execution_count": null,
   "metadata": {},
   "outputs": [],
   "source": [
    "# Special process for Anti-LGBT Crime -- have to combine lots of categorires\n",
    "searchfor = [\"Gay\", \"Lesbian\", \"Transgender\", \"Bisexual\"]\n",
    "lgbtcrimes = hatecrimes[hatecrimes[\"bias_desc\"].str.contains('|'.join(searchfor))]\n",
    "# NOTE: Used the following SO link to help with multiple search keys\n",
    "# https://stackoverflow.com/questions/26577516/how-to-test-if-a-string-contains-one-of-the-substrings-in-a-list-in-pandas\n",
    "\n",
    "# Doing state/percap conversions\n",
    "state_ids = data.population_engineers_hurricanes(usecols=['state', 'id'])\n",
    "hatecrimes_w_ids = lgbtcrimes.merge(state_ids, left_on='state_name', right_on='state')\n",
    "state_counts = hatecrimes_w_ids.groupby(['id'], as_index=False).size()\n",
    "state_counts = state_counts.merge(state_ids)\n",
    "state_counts_w_pop = state_counts.merge(population, on=\"state\")\n",
    "state_counts_w_pop[\"percap\"] = (state_counts_w_pop[\"size\"]/state_counts_w_pop[\"population\"])*100000\n",
    "state_counts_w_pop[\"percap\"] = state_counts_w_pop[\"percap\"].round(2)\n",
    "state_counts_w_pop[\"id\"]= state_counts_w_pop[\"id\"].astype(str).str.pad(width=2, side='left', fillchar='0')\n",
    "state_counts_w_pop.to_csv(\"Anti-LGBT.csv\")"
   ]
  }
 ],
 "metadata": {
  "kernelspec": {
   "display_name": "Python 3",
   "language": "python",
   "name": "python3"
  },
  "language_info": {
   "codemirror_mode": {
    "name": "ipython",
    "version": 3
   },
   "file_extension": ".py",
   "mimetype": "text/x-python",
   "name": "python",
   "nbconvert_exporter": "python",
   "pygments_lexer": "ipython3",
   "version": "3.10.12"
  }
 },
 "nbformat": 4,
 "nbformat_minor": 2
}
